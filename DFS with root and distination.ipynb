{
 "cells": [
  {
   "cell_type": "code",
   "execution_count": 8,
   "metadata": {},
   "outputs": [
    {
     "name": "stdout",
     "output_type": "stream",
     "text": [
      "A\n",
      "B\n",
      "E\n",
      "F\n",
      "C\n",
      "J\n"
     ]
    },
    {
     "data": {
      "text/plain": [
       "True"
      ]
     },
     "execution_count": 8,
     "metadata": {},
     "output_type": "execute_result"
    }
   ],
   "source": [
    "def dfs(root,destination):\n",
    "    visited = set()\n",
    "    def dfs_helper(node):\n",
    "        if node not in visited:\n",
    "            print(node)\n",
    "            visited.add(node)\n",
    "            if node == destination:\n",
    "                return True\n",
    "            for neighbour in graph[node]:\n",
    "                if dfs_helper(neighbour):\n",
    "                    return True\n",
    "        return False \n",
    "    return dfs_helper(root)\n",
    "\n",
    "graph = {\n",
    "    'A' : ['B','C','D'],\n",
    "    'B' : ['E','F'],\n",
    "    'C' : ['J','K','L'],\n",
    "    'D' : ['M','N'],\n",
    "    'E' : [],\n",
    "    'F' : [],\n",
    "    'J' : [],\n",
    "    'K' : [],\n",
    "    'L' : ['P'],\n",
    "    'M' : [],\n",
    "    'N' : [],\n",
    "    'P' : []\n",
    "\n",
    "}\n",
    "dfs(input('the root :'),input('the destination :'))"
   ]
  }
 ],
 "metadata": {
  "kernelspec": {
   "display_name": "base",
   "language": "python",
   "name": "python3"
  },
  "language_info": {
   "codemirror_mode": {
    "name": "ipython",
    "version": 3
   },
   "file_extension": ".py",
   "mimetype": "text/x-python",
   "name": "python",
   "nbconvert_exporter": "python",
   "pygments_lexer": "ipython3",
   "version": "3.11.4"
  }
 },
 "nbformat": 4,
 "nbformat_minor": 2
}
